{
 "cells": [
  {
   "cell_type": "code",
   "execution_count": 1,
   "id": "d2993265-4546-480c-931b-b5994e09693c",
   "metadata": {},
   "outputs": [],
   "source": [
    "import requests\n",
    "import pandas as pd\n",
    "from bs4 import BeautifulSoup "
   ]
  },
  {
   "cell_type": "code",
   "execution_count": 2,
   "id": "f67a7b6e-f215-4be5-b05a-92d568d72950",
   "metadata": {},
   "outputs": [],
   "source": [
    "UA = 'Mozilla/5.0 (Macintosh; Intel Mac OS X 10_15_7) AppleWebKit/537.36 (KHTML, like Gecko) Chrome/116.0.0.0 Safari/537.3'"
   ]
  },
  {
   "cell_type": "code",
   "execution_count": 3,
   "id": "f02c9502-6d8d-41d3-bedd-2adcbcecd8b1",
   "metadata": {},
   "outputs": [],
   "source": [
    "headers = { 'User-Agent': UA }"
   ]
  },
  {
   "cell_type": "code",
   "execution_count": 4,
   "id": "5897f42d-9beb-4c89-b46a-6f22d2a3a5f4",
   "metadata": {},
   "outputs": [],
   "source": [
    "res = requests.get('https://zozo.jp/_help/', headers=headers)\n",
    "res.encoding = res.apparent_encoding\n",
    "soup = BeautifulSoup(res.text, 'html.parser')"
   ]
  },
  {
   "cell_type": "code",
   "execution_count": 5,
   "id": "d11e2970-8e2a-4966-b6a3-fcdf62de7f1c",
   "metadata": {},
   "outputs": [],
   "source": [
    "page_ids = []\n",
    "for a_tag in soup.select('.accordion ul li a'):\n",
    "    page_id = a_tag.attrs.get('href').split('=')[-1]\n",
    "    page_ids += [page_id]"
   ]
  },
  {
   "cell_type": "code",
   "execution_count": 6,
   "id": "3153d08e-c8d5-44f4-be4d-8acbef0329a5",
   "metadata": {},
   "outputs": [
    {
     "data": {
      "text/plain": [
       "152"
      ]
     },
     "execution_count": 6,
     "metadata": {},
     "output_type": "execute_result"
    }
   ],
   "source": [
    "len(page_ids)"
   ]
  },
  {
   "cell_type": "code",
   "execution_count": null,
   "id": "9ebe9656-9985-4d50-a0ec-9a5fe06fe347",
   "metadata": {},
   "outputs": [],
   "source": []
  },
  {
   "cell_type": "code",
   "execution_count": 7,
   "id": "a3b8dfe6-c957-45ca-95e4-32d10f0e03af",
   "metadata": {},
   "outputs": [],
   "source": [
    "def get_page_content(page_id):\n",
    "    res = requests.get('https://helpfeel.com/zozo-help/null-{}'.format(page_id), headers=headers)\n",
    "    res.encoding = res.apparent_encoding\n",
    "    soup = BeautifulSoup(res.text, 'html.parser')\n",
    "    return soup.select_one('.page-content').text.strip()"
   ]
  },
  {
   "cell_type": "code",
   "execution_count": null,
   "id": "9d3cf362-b31d-4e0a-b1f0-6024847e1d0d",
   "metadata": {},
   "outputs": [],
   "source": []
  },
  {
   "cell_type": "code",
   "execution_count": 8,
   "id": "8fb43d67-20e6-49f0-8163-0a0c52a90e99",
   "metadata": {},
   "outputs": [],
   "source": [
    "results = []\n",
    "for page_id in page_ids:\n",
    "    url = 'https://zozo.jp/_help/default.html?id={}'.format(page_id)\n",
    "    content = get_page_content(page_id)\n",
    "\n",
    "    results += [{\n",
    "        'url': url,\n",
    "        'content': content,\n",
    "    }]"
   ]
  },
  {
   "cell_type": "code",
   "execution_count": null,
   "id": "8e5a4ae0-9761-43ee-b4f2-b603bad3ddfb",
   "metadata": {},
   "outputs": [],
   "source": []
  },
  {
   "cell_type": "code",
   "execution_count": 10,
   "id": "d327b106-9be7-44ec-9de6-6879e28efdf4",
   "metadata": {},
   "outputs": [
    {
     "data": {
      "text/html": [
       "<div>\n",
       "<style scoped>\n",
       "    .dataframe tbody tr th:only-of-type {\n",
       "        vertical-align: middle;\n",
       "    }\n",
       "\n",
       "    .dataframe tbody tr th {\n",
       "        vertical-align: top;\n",
       "    }\n",
       "\n",
       "    .dataframe thead th {\n",
       "        text-align: right;\n",
       "    }\n",
       "</style>\n",
       "<table border=\"1\" class=\"dataframe\">\n",
       "  <thead>\n",
       "    <tr style=\"text-align: right;\">\n",
       "      <th></th>\n",
       "      <th>url</th>\n",
       "      <th>content</th>\n",
       "    </tr>\n",
       "  </thead>\n",
       "  <tbody>\n",
       "    <tr>\n",
       "      <th>0</th>\n",
       "      <td>https://zozo.jp/_help/default.html?id=5ece39d3...</td>\n",
       "      <td>商品のサイズ商品のサイズは、商品ページ下部にある「サイズ」の項目をご覧ください。当サイトでは...</td>\n",
       "    </tr>\n",
       "    <tr>\n",
       "      <th>1</th>\n",
       "      <td>https://zozo.jp/_help/default.html?id=5ece39d3...</td>\n",
       "      <td>商品のカラー・デザイン商品の画像は、できる限り実際の商品に近づけた状態で掲載をしております。...</td>\n",
       "    </tr>\n",
       "    <tr>\n",
       "      <th>2</th>\n",
       "      <td>https://zozo.jp/_help/default.html?id=5ece47a3...</td>\n",
       "      <td>商品の販売価格サイトの表示価格は、販売ショップがZOZOTOWNで販売するために設定した価格...</td>\n",
       "    </tr>\n",
       "    <tr>\n",
       "      <th>3</th>\n",
       "      <td>https://zozo.jp/_help/default.html?id=5ece39d4...</td>\n",
       "      <td>ZOZOUSEDの取扱い商品ZOZOUSEDでは、買取サービスや買い替え割・いつでも買い替え...</td>\n",
       "    </tr>\n",
       "    <tr>\n",
       "      <th>4</th>\n",
       "      <td>https://zozo.jp/_help/default.html?id=5ece39d4...</td>\n",
       "      <td>ZOZOUSED商品の掲載画像撮影時の照明やカメラの角度、お客様の端末設定により、実際の色味...</td>\n",
       "    </tr>\n",
       "  </tbody>\n",
       "</table>\n",
       "</div>"
      ],
      "text/plain": [
       "                                                 url  \\\n",
       "0  https://zozo.jp/_help/default.html?id=5ece39d3...   \n",
       "1  https://zozo.jp/_help/default.html?id=5ece39d3...   \n",
       "2  https://zozo.jp/_help/default.html?id=5ece47a3...   \n",
       "3  https://zozo.jp/_help/default.html?id=5ece39d4...   \n",
       "4  https://zozo.jp/_help/default.html?id=5ece39d4...   \n",
       "\n",
       "                                             content  \n",
       "0  商品のサイズ商品のサイズは、商品ページ下部にある「サイズ」の項目をご覧ください。当サイトでは...  \n",
       "1  商品のカラー・デザイン商品の画像は、できる限り実際の商品に近づけた状態で掲載をしております。...  \n",
       "2  商品の販売価格サイトの表示価格は、販売ショップがZOZOTOWNで販売するために設定した価格...  \n",
       "3  ZOZOUSEDの取扱い商品ZOZOUSEDでは、買取サービスや買い替え割・いつでも買い替え...  \n",
       "4  ZOZOUSED商品の掲載画像撮影時の照明やカメラの角度、お客様の端末設定により、実際の色味...  "
      ]
     },
     "execution_count": 10,
     "metadata": {},
     "output_type": "execute_result"
    }
   ],
   "source": [
    "df = pd.DataFrame(results)\n",
    "df.head(5)"
   ]
  },
  {
   "cell_type": "code",
   "execution_count": 11,
   "id": "57761b8b-ee41-4d0f-8892-19cdffa85e7e",
   "metadata": {},
   "outputs": [],
   "source": [
    "df.to_csv('./data/raw_content.csv', index=False)"
   ]
  },
  {
   "cell_type": "code",
   "execution_count": null,
   "id": "cbef335f-3403-49ab-aaaf-b2b7394781e2",
   "metadata": {},
   "outputs": [],
   "source": []
  }
 ],
 "metadata": {
  "kernelspec": {
   "display_name": "Python 3 (ipykernel)",
   "language": "python",
   "name": "python3"
  },
  "language_info": {
   "codemirror_mode": {
    "name": "ipython",
    "version": 3
   },
   "file_extension": ".py",
   "mimetype": "text/x-python",
   "name": "python",
   "nbconvert_exporter": "python",
   "pygments_lexer": "ipython3",
   "version": "3.11.5"
  }
 },
 "nbformat": 4,
 "nbformat_minor": 5
}
