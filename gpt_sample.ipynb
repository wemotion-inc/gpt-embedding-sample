{
 "cells": [
  {
   "cell_type": "code",
   "execution_count": 1,
   "id": "3a5b654d-437d-4c2b-bb6e-dce0eaa75d1b",
   "metadata": {},
   "outputs": [],
   "source": [
    "import openai"
   ]
  },
  {
   "cell_type": "code",
   "execution_count": 2,
   "id": "c16daad9-f755-4ebf-8796-b91f420788ab",
   "metadata": {},
   "outputs": [],
   "source": [
    "# openai.api_key = 'OPENAI_API_KEY'\n",
    "openai.api_key = 'sk-xxxxxxxxxxxxxxxxxxxxxxxxxxxxxxxxxxxx'"
   ]
  },
  {
   "cell_type": "code",
   "execution_count": 3,
   "id": "c35006dc-f101-4860-92e3-d6679948084a",
   "metadata": {},
   "outputs": [
    {
     "name": "stdout",
     "output_type": "stream",
     "text": [
      "ZOZOTOWNのポイントについては、以下のようになっています。\n",
      "\n",
      "1. ポイントは1ポイント＝1円を基準としています。\n",
      "2. 商品を購入する際に、商品価格の10％がポイント還元されます。\n",
      "3. ポイントは次回の購入時に利用することができます。\n",
      "4. ポイントの有効期限は最終利用日から1年間です。\n",
      "5. ポイントはZOZOTOWNアプリやウェブサイトのマイページから確認することができます。\n",
      "\n",
      "なお、ポイントの還元率や有効期限などは、変更される場合がありますので、最新情報はZOZOTOWNの公式サイトなどでご確認ください。\n"
     ]
    }
   ],
   "source": [
    "GPT_MODEL = 'gpt-3.5-turbo-0301'\n",
    "\n",
    "system_prompt = 'あなたはお問い合わせに回答するチャットボットです。ユーザーの質問に対してMarkdown形式で回答してください。'\n",
    "user_prompt = 'ZOZOTWONのポイントについて教えてください。'\n",
    "\n",
    "res = openai.ChatCompletion.create(\n",
    "    model=GPT_MODEL,\n",
    "    messages=[\n",
    "        { 'role': 'system', 'content': system_prompt },\n",
    "        { 'role': 'user', 'content': user_prompt },\n",
    "    ]\n",
    ")\n",
    "\n",
    "print(res.choices[0].message.content)"
   ]
  },
  {
   "cell_type": "code",
   "execution_count": null,
   "id": "c1e5796e-de7d-4bbe-9e39-57068ec736c3",
   "metadata": {},
   "outputs": [],
   "source": []
  },
  {
   "cell_type": "code",
   "execution_count": 4,
   "id": "1796dc22-5685-4c77-b059-cb3d1010a810",
   "metadata": {},
   "outputs": [],
   "source": [
    "EMBEDDING_MODEL = 'text-embedding-ada-002'\n",
    "\n",
    "def get_embedding(text):\n",
    "    return openai.Embedding.create(input=[text], model=EMBEDDING_MODEL)['data'][0]['embedding']"
   ]
  },
  {
   "cell_type": "code",
   "execution_count": 5,
   "id": "2850ad60-9fa7-4e5e-bd42-222af0e8b8f6",
   "metadata": {},
   "outputs": [
    {
     "data": {
      "text/plain": [
       "[-0.010266449302434921,\n",
       " -0.015409426763653755,\n",
       " -0.0009549618698656559,\n",
       " -0.04790576174855232,\n",
       " -0.0007273964583873749,\n",
       " 0.014876274392008781,\n",
       " -0.005497329402714968,\n",
       " -0.029986616224050522,\n",
       " -0.005266513209789991,\n",
       " -0.017242953181266785]"
      ]
     },
     "execution_count": 5,
     "metadata": {},
     "output_type": "execute_result"
    }
   ],
   "source": [
    "array_a = get_embedding('楽しい映画')\n",
    "array_a[:10]"
   ]
  },
  {
   "cell_type": "code",
   "execution_count": 6,
   "id": "9656975f-9070-4195-8ba6-f678864e15f4",
   "metadata": {},
   "outputs": [
    {
     "data": {
      "text/plain": [
       "1536"
      ]
     },
     "execution_count": 6,
     "metadata": {},
     "output_type": "execute_result"
    }
   ],
   "source": [
    "len(array_a)"
   ]
  },
  {
   "cell_type": "code",
   "execution_count": 7,
   "id": "3965fe31-b535-43c3-9626-38e4d05dc0c1",
   "metadata": {},
   "outputs": [
    {
     "data": {
      "text/plain": [
       "[-0.014043513685464859,\n",
       " -0.009383679367601871,\n",
       " -0.0012457697885110974,\n",
       " -0.03364298492670059,\n",
       " 0.004858262371271849,\n",
       " 0.009287665598094463,\n",
       " -0.00420857360586524,\n",
       " -0.024169694632291794,\n",
       " -0.0017058325465768576,\n",
       " -0.021903784945607185]"
      ]
     },
     "execution_count": 7,
     "metadata": {},
     "output_type": "execute_result"
    }
   ],
   "source": [
    "array_b = get_embedding('面白い映画')\n",
    "array_b[:10]"
   ]
  },
  {
   "cell_type": "code",
   "execution_count": 8,
   "id": "70e224ae-31ec-4167-bdd4-e1260d5970d6",
   "metadata": {},
   "outputs": [
    {
     "data": {
      "text/plain": [
       "[-0.0024894126690924168,\n",
       " -0.023719346150755882,\n",
       " -0.01836291328072548,\n",
       " 0.009852759540081024,\n",
       " 0.0115519929677248,\n",
       " 0.01895030401647091,\n",
       " -0.005335454363375902,\n",
       " -0.00627597700804472,\n",
       " -0.001856570364907384,\n",
       " -8.145440369844437e-05]"
      ]
     },
     "execution_count": 8,
     "metadata": {},
     "output_type": "execute_result"
    }
   ],
   "source": [
    "array_c = get_embedding('台風の進路')\n",
    "array_c[:10]"
   ]
  },
  {
   "cell_type": "code",
   "execution_count": null,
   "id": "dd2c95a0-12de-4235-8345-a94cb480401e",
   "metadata": {},
   "outputs": [],
   "source": []
  },
  {
   "cell_type": "code",
   "execution_count": 9,
   "id": "446e2fc1-4f1d-4a8c-98f9-86e4d8fa31d1",
   "metadata": {},
   "outputs": [],
   "source": [
    "import numpy as np\n",
    "def get_cosine_similarity(array_a, array_b):\n",
    "    return float(np.dot(array_a, array_b) / (np.linalg.norm(array_a) * np.linalg.norm(array_b)))"
   ]
  },
  {
   "cell_type": "code",
   "execution_count": 10,
   "id": "ad16b206-e14b-4f0f-883a-18d023bb4350",
   "metadata": {},
   "outputs": [
    {
     "data": {
      "text/plain": [
       "0.9586778064339544"
      ]
     },
     "execution_count": 10,
     "metadata": {},
     "output_type": "execute_result"
    }
   ],
   "source": [
    "# '楽しい映画' x '面白い映画'\n",
    "get_cosine_similarity(array_a, array_b)"
   ]
  },
  {
   "cell_type": "code",
   "execution_count": 11,
   "id": "8610301b-065e-4b79-90d6-5d6a34497d49",
   "metadata": {},
   "outputs": [
    {
     "data": {
      "text/plain": [
       "0.8107356886751245"
      ]
     },
     "execution_count": 11,
     "metadata": {},
     "output_type": "execute_result"
    }
   ],
   "source": [
    "# '楽しい映画' x '台風の進路'\n",
    "get_cosine_similarity(array_a, array_c)"
   ]
  },
  {
   "cell_type": "code",
   "execution_count": 12,
   "id": "6f46eae5-a5da-4882-91dd-d6de5aa3eacc",
   "metadata": {},
   "outputs": [
    {
     "data": {
      "text/plain": [
       "1.0000000000000002"
      ]
     },
     "execution_count": 12,
     "metadata": {},
     "output_type": "execute_result"
    }
   ],
   "source": [
    "# '台風の進路' x '台風の進路'\n",
    "get_cosine_similarity(array_c, array_c)"
   ]
  },
  {
   "cell_type": "code",
   "execution_count": null,
   "id": "cb29db5a-5ef7-4717-ba8e-ed57f071cc1e",
   "metadata": {},
   "outputs": [],
   "source": []
  }
 ],
 "metadata": {
  "kernelspec": {
   "display_name": "Python 3 (ipykernel)",
   "language": "python",
   "name": "python3"
  },
  "language_info": {
   "codemirror_mode": {
    "name": "ipython",
    "version": 3
   },
   "file_extension": ".py",
   "mimetype": "text/x-python",
   "name": "python",
   "nbconvert_exporter": "python",
   "pygments_lexer": "ipython3",
   "version": "3.11.5"
  }
 },
 "nbformat": 4,
 "nbformat_minor": 5
}
