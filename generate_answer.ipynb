{
 "cells": [
  {
   "cell_type": "code",
   "execution_count": 1,
   "id": "b8a88529-540e-4572-9022-26c74ec1fed7",
   "metadata": {},
   "outputs": [
    {
     "data": {
      "text/plain": [
       "True"
      ]
     },
     "execution_count": 1,
     "metadata": {},
     "output_type": "execute_result"
    }
   ],
   "source": [
    "import os\n",
    "import openai\n",
    "\n",
    "import numpy as np\n",
    "import pandas as pd\n",
    "from dotenv import load_dotenv, find_dotenv\n",
    "load_dotenv(find_dotenv())"
   ]
  },
  {
   "cell_type": "code",
   "execution_count": 2,
   "id": "b56727ce-82d6-4e60-ba69-28083b74b995",
   "metadata": {},
   "outputs": [],
   "source": [
    "OPENAI_API_KEY = os.environ.get('OPENAI_API_KEY')\n",
    "\n",
    "EMBEDDING_MODEL = 'text-embedding-ada-002'\n",
    "GPT_MODEL = 'gpt-3.5-turbo-0301'\n",
    "THRESHOLD_COSINE_SIMILARITY = 0.85"
   ]
  },
  {
   "cell_type": "code",
   "execution_count": 3,
   "id": "dd1180e1-adcf-426f-b500-51a648724d9a",
   "metadata": {},
   "outputs": [],
   "source": [
    "openai.api_key = OPENAI_API_KEY"
   ]
  },
  {
   "cell_type": "code",
   "execution_count": 4,
   "id": "4a4c5f5e-9f57-4f44-9077-ef099c6b7bc5",
   "metadata": {},
   "outputs": [
    {
     "data": {
      "text/html": [
       "<div>\n",
       "<style scoped>\n",
       "    .dataframe tbody tr th:only-of-type {\n",
       "        vertical-align: middle;\n",
       "    }\n",
       "\n",
       "    .dataframe tbody tr th {\n",
       "        vertical-align: top;\n",
       "    }\n",
       "\n",
       "    .dataframe thead th {\n",
       "        text-align: right;\n",
       "    }\n",
       "</style>\n",
       "<table border=\"1\" class=\"dataframe\">\n",
       "  <thead>\n",
       "    <tr style=\"text-align: right;\">\n",
       "      <th></th>\n",
       "      <th>url</th>\n",
       "      <th>content</th>\n",
       "      <th>embedding</th>\n",
       "    </tr>\n",
       "  </thead>\n",
       "  <tbody>\n",
       "    <tr>\n",
       "      <th>0</th>\n",
       "      <td>https://zozo.jp/_help/default.html?id=5ece39d3...</td>\n",
       "      <td>商品のサイズ商品のサイズは、商品ページ下部にある「サイズ」の項目をご覧ください。当サイトでは...</td>\n",
       "      <td>[-0.012270285747945309, 0.009278957732021809, ...</td>\n",
       "    </tr>\n",
       "    <tr>\n",
       "      <th>1</th>\n",
       "      <td>https://zozo.jp/_help/default.html?id=5ece39d3...</td>\n",
       "      <td>商品のカラー・デザイン商品の画像は、できる限り実際の商品に近づけた状態で掲載をしております。...</td>\n",
       "      <td>[-0.012848308309912682, -0.0011484753340482712...</td>\n",
       "    </tr>\n",
       "    <tr>\n",
       "      <th>2</th>\n",
       "      <td>https://zozo.jp/_help/default.html?id=5ece47a3...</td>\n",
       "      <td>商品の販売価格サイトの表示価格は、販売ショップがZOZOTOWNで販売するために設定した価格...</td>\n",
       "      <td>[-0.015740083530545235, -0.006914299912750721,...</td>\n",
       "    </tr>\n",
       "    <tr>\n",
       "      <th>3</th>\n",
       "      <td>https://zozo.jp/_help/default.html?id=5ece39d4...</td>\n",
       "      <td>ZOZOUSEDの取扱い商品ZOZOUSEDでは、買取サービスや買い替え割・いつでも買い替え...</td>\n",
       "      <td>[-0.01777864620089531, -0.008320022374391556, ...</td>\n",
       "    </tr>\n",
       "    <tr>\n",
       "      <th>4</th>\n",
       "      <td>https://zozo.jp/_help/default.html?id=5ece39d4...</td>\n",
       "      <td>ZOZOUSED商品の掲載画像撮影時の照明やカメラの角度、お客様の端末設定により、実際の色味...</td>\n",
       "      <td>[-0.004656823817640543, -0.005725925322622061,...</td>\n",
       "    </tr>\n",
       "  </tbody>\n",
       "</table>\n",
       "</div>"
      ],
      "text/plain": [
       "                                                 url  \\\n",
       "0  https://zozo.jp/_help/default.html?id=5ece39d3...   \n",
       "1  https://zozo.jp/_help/default.html?id=5ece39d3...   \n",
       "2  https://zozo.jp/_help/default.html?id=5ece47a3...   \n",
       "3  https://zozo.jp/_help/default.html?id=5ece39d4...   \n",
       "4  https://zozo.jp/_help/default.html?id=5ece39d4...   \n",
       "\n",
       "                                             content  \\\n",
       "0  商品のサイズ商品のサイズは、商品ページ下部にある「サイズ」の項目をご覧ください。当サイトでは...   \n",
       "1  商品のカラー・デザイン商品の画像は、できる限り実際の商品に近づけた状態で掲載をしております。...   \n",
       "2  商品の販売価格サイトの表示価格は、販売ショップがZOZOTOWNで販売するために設定した価格...   \n",
       "3  ZOZOUSEDの取扱い商品ZOZOUSEDでは、買取サービスや買い替え割・いつでも買い替え...   \n",
       "4  ZOZOUSED商品の掲載画像撮影時の照明やカメラの角度、お客様の端末設定により、実際の色味...   \n",
       "\n",
       "                                           embedding  \n",
       "0  [-0.012270285747945309, 0.009278957732021809, ...  \n",
       "1  [-0.012848308309912682, -0.0011484753340482712...  \n",
       "2  [-0.015740083530545235, -0.006914299912750721,...  \n",
       "3  [-0.01777864620089531, -0.008320022374391556, ...  \n",
       "4  [-0.004656823817640543, -0.005725925322622061,...  "
      ]
     },
     "execution_count": 4,
     "metadata": {},
     "output_type": "execute_result"
    }
   ],
   "source": [
    "def str_to_nparray(str_array):\n",
    "    return np.fromstring(str_array[1:-1], sep=',')\n",
    "\n",
    "df = pd.read_csv('./data/embedding_content.csv', converters={'embedding': str_to_nparray})\n",
    "df.head(5)"
   ]
  },
  {
   "cell_type": "code",
   "execution_count": null,
   "id": "b71e7209-644f-47e1-a224-a3159d62981c",
   "metadata": {},
   "outputs": [],
   "source": []
  },
  {
   "cell_type": "code",
   "execution_count": 5,
   "id": "1c5446b3-1180-4d66-bfd0-046a04398d18",
   "metadata": {},
   "outputs": [],
   "source": [
    "def get_embedding(text):\n",
    "    return openai.Embedding.create(input=[text], model=EMBEDDING_MODEL)['data'][0]['embedding']"
   ]
  },
  {
   "cell_type": "code",
   "execution_count": 6,
   "id": "bbb8e387-efdf-4bb8-b6bb-72265888820a",
   "metadata": {},
   "outputs": [],
   "source": [
    "def get_cosine_similarity(array_a, array_b):\n",
    "    return float(np.dot(array_a, array_b) / (np.linalg.norm(array_a) * np.linalg.norm(array_b)))"
   ]
  },
  {
   "cell_type": "code",
   "execution_count": 7,
   "id": "4f02658a-6bce-4c61-8d62-0911407f451a",
   "metadata": {},
   "outputs": [],
   "source": [
    "def get_similar_contents(input_text):\n",
    "    embedding_input_text = get_embedding(input_text)\n",
    "\n",
    "    df_cloned = df.copy(deep=True)\n",
    "    df_cloned['cosine_similarity'] = df_cloned['embedding'].apply(lambda x: get_cosine_similarity(x, embedding_input_text))\n",
    "    df_cloned_filtered = df_cloned[df_cloned['cosine_similarity'] >= THRESHOLD_COSINE_SIMILARITY]\n",
    "    df_top = df_cloned_filtered.sort_values(['cosine_similarity'], ascending=False).iloc[: 3]\n",
    "\n",
    "    results = []\n",
    "    for i in range(len(df_top)):\n",
    "        row = df_top.iloc[i]\n",
    "        results += [{\n",
    "            'url': row.get('url'),\n",
    "            'content': row.get('content'),\n",
    "            'cosine_similarity': row.get('cosine_similarity'),\n",
    "        }]\n",
    "\n",
    "    return results"
   ]
  },
  {
   "cell_type": "code",
   "execution_count": null,
   "id": "d1b8c34e-337e-49a7-b69f-a93f3b07cc41",
   "metadata": {},
   "outputs": [],
   "source": []
  },
  {
   "cell_type": "code",
   "execution_count": null,
   "id": "c4cc40b8-af26-4c8f-a031-02fd7561dc41",
   "metadata": {},
   "outputs": [],
   "source": []
  },
  {
   "cell_type": "code",
   "execution_count": 8,
   "id": "9392d0c9-8751-4cff-a16b-0e255ccc3820",
   "metadata": {},
   "outputs": [],
   "source": [
    "def generate_answer(input_text):\n",
    "    similar_contents = get_similar_contents(input_text)\n",
    "\n",
    "    answer_conten = '\\n\\n'.join([\n",
    "        '『{}』\\nURL: {}'.format(content['content'], content['url'])\n",
    "        for content in similar_contents\n",
    "    ])\n",
    "\n",
    "    system_prompt = f'あなたはマニュアルを参考にお問い合わせに回答するチャットボットです。ユーザーの質問に対してマニュアルを利用してMarkdown形式で回答してください。' \\\n",
    "        + f'また、参考にしたマニュアルのURLも箇条書きで教えてください。質問に沿った内容の回答が用意できない場合は、想像で回答せずにマニュアルに存在しない旨を回答してください。'\n",
    "\n",
    "    prompt = f'【ユーザーの質問】' \\\n",
    "        + f'\\n{input_text}' \\\n",
    "        + f'\\n\\n【マニュアル】' \\\n",
    "        + f'\\n{answer_conten}'\n",
    "\n",
    "    print(prompt)\n",
    "\n",
    "    res = openai.ChatCompletion.create(\n",
    "        model=GPT_MODEL,\n",
    "        messages=[\n",
    "            { 'role': 'system', 'content': system_prompt },\n",
    "            { 'role': 'user', 'content': prompt },\n",
    "        ]\n",
    "    )\n",
    "\n",
    "    print('\\n\\n==========\\n\\n')\n",
    "    print(res.choices[0].message.content)\n",
    "\n",
    "    # return res.choices[0].message.content"
   ]
  },
  {
   "cell_type": "code",
   "execution_count": 9,
   "id": "2a83ae79-a8b9-4547-ac73-a3cdcf898e4d",
   "metadata": {},
   "outputs": [
    {
     "name": "stdout",
     "output_type": "stream",
     "text": [
      "【ユーザーの質問】\n",
      "返品したいときは\n",
      "\n",
      "【マニュアル】\n",
      "『返品時の返送料返品対応時に発生する返送料の扱いは下記のとおりです。※返品の際は事前にご申請いただく必要がございます。詳細はヘルプページ「返品の申請方法」をご確認ください。なお、返送に関する詳細は、返品申請後に届く返送案内メールにも記載がございますので、必ずあわせてご確認ください。※商品の返送が簡単にできるサービスもございます。詳細はヘルプページ「便利な返送サービス」をご確認ください。● お客様都合による返品：お客様負担（元払い） ∟サイズが合わなかった場合 ∟イメージが違った場合● 不備による返品：弊社負担（着払い） ∟不良があった場合 ∟注文と異なる商品が届いた場合 ∟商品ページに記載の情報に誤りがあった場合※キャンペーン等によって一時的に変更となる場合がございます。』\n",
      "URL: https://zozo.jp/_help/default.html?id=624fc03a7b9e340022281e46\n",
      "\n",
      "『返品ではなく交換したい / 返品申請を取り消したい【返品ではなく交換したい】返品理由が以下の場合、交換対応は承っておりません。「サイズが合わない」「イメージと違う」「注文を間違えた」交換をご希望の場合は、返品後に再注文をお願いいたします。詳細は「商品の変更・交換」をご確認ください。【返品申請を取消したい】取り消し手続きおよびお問い合わせは不要です。お手元の商品は、そのままお受け取りください。』\n",
      "URL: https://zozo.jp/_help/default.html?id=649295783b2d33001b2d0fd3\n",
      "\n",
      "『返品の申請方法「商品の返品」に記載のある返品交換条件を満たしている商品は、以下の手続きが可能です。1）「注文履歴注文履歴」内の「注文詳細・各種手続き」より「返品・交換の手続き」へ進み、手続きをお願いします。ログイン・会員登録せずに注文された場合は、注文後に届く注文確定メール内より「注文履歴」へ進むことが可能です。2）手続き完了後、会員登録メールアドレスへ返送のご案内メールを配信いたします。内容を確認のうえ、商品のご返送をお願いします。ログイン・会員登録せずに注文された方の場合、注文時にご入力のメールアドレスに配信いたします。\t3）ご返送商品を確認後、7営業日以内に返金日などの詳細をメールでご連絡いたします。\t※一部商品は、販売ショップに返品手続きの詳細について、確認をおこなう場合がございます。その際は、販売ショップへの確認ができ次第、今後の返品対応の流れについて、改めてご案内いたします。※商品の状態によって返品をお受けできない場合、大変申し訳ございませんが、商品はお返しさせていただきます。ご了承ください。※店舗取り置き注文の商品は、ZOZOTOWNで対応をお受けできません。お受け取りいただいた店舗に直接ご確認ください。』\n",
      "URL: https://zozo.jp/_help/default.html?id=5ece39d49ed84e001ea6e36b\n",
      "\n",
      "\n",
      "==========\n",
      "\n",
      "\n",
      "返品をご希望の場合は、以下の手順でお手続きをお願いいたします。\n",
      "1. 「注文履歴・詳細」ページから「返品・交換の手続き」を選択。\n",
      "2. 手続きを完了後、会員登録メールアドレスに返送の案内が送信されます。「返品の申請方法」に記載されている条件を満たしている場合、返送料はお客様負担となります。\n",
      "3. 商品が返送された後、7営業日以内に返金日などの詳細がメールで連絡されます。ただし、一部商品は販売ショップによって返品手続きの詳細について確認をおこなう場合があります。詳細は「返品の申請方法」をご確認ください。\n",
      "URL: https://zozo.jp/_help/default.html?id=624fc03a7b9e340022281e46\n"
     ]
    }
   ],
   "source": [
    "generate_answer('返品したいときは')"
   ]
  },
  {
   "cell_type": "code",
   "execution_count": 10,
   "id": "159cb7c9-f099-4fae-9e06-8ae835deeec3",
   "metadata": {},
   "outputs": [
    {
     "name": "stdout",
     "output_type": "stream",
     "text": [
      "【ユーザーの質問】\n",
      "ポイントについて詳しく教えてください\n",
      "\n",
      "【マニュアル】\n",
      "『ポイントの種類以下のポイントがZOZOTOWNで使用できます。【ZOZOCARDご利用還元ポイント】ZOZOCARDのご利用で加算されるポイントです。詳しくは「ZOZOCARDとは？ZOZOCARDとは？」をご確認ください。【買取査定ポイント】買取サービスにて、「ZOZOポイント買取」を希望された場合に加算されるポイントです。買取サービスに関しては、「ブランド古着買取サービスブランド古着買取サービス」をご確認ください。【ギフトポイント】LINEの友だちからプレゼントとして受け取れるポイントです。詳しくは「LINEギフトとは」をご確認ください。【コスメショップ限定ポイント】ZOZOCOSMEの専門ショップで販売中の商品にご利用いただけるポイントです。アパレルショップで販売されているコスメアイテムにはご利用いただけませんので、ご注意ください。【それ以外のポイント】特定のショップでご利用いただける「ショップ限定クーポンポイント」、キャンペーンにより付与される「キャンペーンポイント」などがございます。各ポイントによってご利用条件が異なりますので、ポイントの説明やキャンペーンの注意事項を必ずご確認ください。※一部、送料・各種手数料のお支払いにご使用いただけないポイントがございます。』\n",
      "URL: https://zozo.jp/_help/default.html?id=5ece39d49ed84e001ea6e379\n",
      "\n",
      "\n",
      "==========\n",
      "\n",
      "\n",
      "【マニュアルより回答】\n",
      "ZOZOTOWNで使用できるポイントは以下のとおりです。\n",
      "\n",
      "- ZOZOCARDご利用還元ポイント: ZOZOCARDでご利用いただくと加算されるポイントです。詳しくは「ZOZOCARDとは？」をご確認ください。\n",
      "- 買取査定ポイント: 買取サービスにて、\"ZOZOポイント買取\"を希望された場合に加算されるポイントです。\n",
      "- ギフトポイント: LINEの友だちからプレゼントとして受け取れるポイントです。\n",
      "- コスメショップ限定ポイント: ZOZOCOSMEの専門ショップで販売中の商品にご利用いただけるポイントです。\n",
      "- ショップ限定クーポンポイント, キャンペーンポイント, その他のポイント: 特定のショップでご利用いただける「ショップ限定クーポンポイント」、キャンペーンにより付与される「キャンペーンポイント」、その他のポイントがございます。各ポイントによってご利用条件が異なりますので、ポイントの説明やキャンペーンの注意事項を必ずご確認ください。\n",
      "\n",
      "一部、送料・各種手数料のお支払いにご使用いただけないポイントがございますので、ご注意ください。詳細については、上記URLよりご確認ください。\n"
     ]
    }
   ],
   "source": [
    "generate_answer('ポイントについて詳しく教えてください')"
   ]
  },
  {
   "cell_type": "code",
   "execution_count": null,
   "id": "e923a5ce-1e0c-42e2-bdfc-a044833044b6",
   "metadata": {},
   "outputs": [],
   "source": []
  }
 ],
 "metadata": {
  "kernelspec": {
   "display_name": "Python 3 (ipykernel)",
   "language": "python",
   "name": "python3"
  },
  "language_info": {
   "codemirror_mode": {
    "name": "ipython",
    "version": 3
   },
   "file_extension": ".py",
   "mimetype": "text/x-python",
   "name": "python",
   "nbconvert_exporter": "python",
   "pygments_lexer": "ipython3",
   "version": "3.11.5"
  }
 },
 "nbformat": 4,
 "nbformat_minor": 5
}
