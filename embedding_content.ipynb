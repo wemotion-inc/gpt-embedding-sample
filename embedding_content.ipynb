{
 "cells": [
  {
   "cell_type": "code",
   "execution_count": 1,
   "id": "b75d169d-4329-4ca5-99b7-1dc96fae6ec6",
   "metadata": {},
   "outputs": [
    {
     "data": {
      "text/plain": [
       "True"
      ]
     },
     "execution_count": 1,
     "metadata": {},
     "output_type": "execute_result"
    }
   ],
   "source": [
    "import os\n",
    "import openai\n",
    "# import tiktoken\n",
    "import pandas as pd\n",
    "\n",
    "from dotenv import load_dotenv, find_dotenv\n",
    "load_dotenv(find_dotenv())"
   ]
  },
  {
   "cell_type": "code",
   "execution_count": 2,
   "id": "39116956-2301-4df9-9d8f-c5a465223da5",
   "metadata": {},
   "outputs": [],
   "source": [
    "# OPENAI_API_KEY=''\n",
    "OPENAI_API_KEY = os.environ.get('OPENAI_API_KEY')\n",
    "\n",
    "EMBEDDING_MODEL = 'text-embedding-ada-002'\n",
    "GPT_MODEL = 'gpt-3.5-turbo-0301'\n",
    "MAX_MODEL_TOKEN = 8000 # max: 8191"
   ]
  },
  {
   "cell_type": "code",
   "execution_count": 3,
   "id": "ce14bdb2-d715-4363-9213-71b0a0999703",
   "metadata": {},
   "outputs": [],
   "source": [
    "# encoding = tiktoken.encoding_for_model(GPT_MODEL)"
   ]
  },
  {
   "cell_type": "code",
   "execution_count": 4,
   "id": "54c3f2ab-6588-4204-9e12-6fbec9289918",
   "metadata": {},
   "outputs": [],
   "source": [
    "openai.api_key = OPENAI_API_KEY"
   ]
  },
  {
   "cell_type": "code",
   "execution_count": null,
   "id": "119666da-3def-4e58-ad4d-b2c5bf826c7f",
   "metadata": {},
   "outputs": [],
   "source": []
  },
  {
   "cell_type": "code",
   "execution_count": 5,
   "id": "3e023aff-211e-4c76-955b-5b31894b3702",
   "metadata": {},
   "outputs": [
    {
     "data": {
      "text/html": [
       "<div>\n",
       "<style scoped>\n",
       "    .dataframe tbody tr th:only-of-type {\n",
       "        vertical-align: middle;\n",
       "    }\n",
       "\n",
       "    .dataframe tbody tr th {\n",
       "        vertical-align: top;\n",
       "    }\n",
       "\n",
       "    .dataframe thead th {\n",
       "        text-align: right;\n",
       "    }\n",
       "</style>\n",
       "<table border=\"1\" class=\"dataframe\">\n",
       "  <thead>\n",
       "    <tr style=\"text-align: right;\">\n",
       "      <th></th>\n",
       "      <th>url</th>\n",
       "      <th>content</th>\n",
       "    </tr>\n",
       "  </thead>\n",
       "  <tbody>\n",
       "    <tr>\n",
       "      <th>0</th>\n",
       "      <td>https://zozo.jp/_help/default.html?id=5ece39d3...</td>\n",
       "      <td>商品のサイズ商品のサイズは、商品ページ下部にある「サイズ」の項目をご覧ください。当サイトでは...</td>\n",
       "    </tr>\n",
       "    <tr>\n",
       "      <th>1</th>\n",
       "      <td>https://zozo.jp/_help/default.html?id=5ece39d3...</td>\n",
       "      <td>商品のカラー・デザイン商品の画像は、できる限り実際の商品に近づけた状態で掲載をしております。...</td>\n",
       "    </tr>\n",
       "    <tr>\n",
       "      <th>2</th>\n",
       "      <td>https://zozo.jp/_help/default.html?id=5ece47a3...</td>\n",
       "      <td>商品の販売価格サイトの表示価格は、販売ショップがZOZOTOWNで販売するために設定した価格...</td>\n",
       "    </tr>\n",
       "    <tr>\n",
       "      <th>3</th>\n",
       "      <td>https://zozo.jp/_help/default.html?id=5ece39d4...</td>\n",
       "      <td>ZOZOUSEDの取扱い商品ZOZOUSEDでは、買取サービスや買い替え割・いつでも買い替え...</td>\n",
       "    </tr>\n",
       "    <tr>\n",
       "      <th>4</th>\n",
       "      <td>https://zozo.jp/_help/default.html?id=5ece39d4...</td>\n",
       "      <td>ZOZOUSED商品の掲載画像撮影時の照明やカメラの角度、お客様の端末設定により、実際の色味...</td>\n",
       "    </tr>\n",
       "  </tbody>\n",
       "</table>\n",
       "</div>"
      ],
      "text/plain": [
       "                                                 url  \\\n",
       "0  https://zozo.jp/_help/default.html?id=5ece39d3...   \n",
       "1  https://zozo.jp/_help/default.html?id=5ece39d3...   \n",
       "2  https://zozo.jp/_help/default.html?id=5ece47a3...   \n",
       "3  https://zozo.jp/_help/default.html?id=5ece39d4...   \n",
       "4  https://zozo.jp/_help/default.html?id=5ece39d4...   \n",
       "\n",
       "                                             content  \n",
       "0  商品のサイズ商品のサイズは、商品ページ下部にある「サイズ」の項目をご覧ください。当サイトでは...  \n",
       "1  商品のカラー・デザイン商品の画像は、できる限り実際の商品に近づけた状態で掲載をしております。...  \n",
       "2  商品の販売価格サイトの表示価格は、販売ショップがZOZOTOWNで販売するために設定した価格...  \n",
       "3  ZOZOUSEDの取扱い商品ZOZOUSEDでは、買取サービスや買い替え割・いつでも買い替え...  \n",
       "4  ZOZOUSED商品の掲載画像撮影時の照明やカメラの角度、お客様の端末設定により、実際の色味...  "
      ]
     },
     "execution_count": 5,
     "metadata": {},
     "output_type": "execute_result"
    }
   ],
   "source": [
    "df = pd.read_csv('./data/raw_content.csv')\n",
    "df.head(5)"
   ]
  },
  {
   "cell_type": "code",
   "execution_count": 6,
   "id": "7f60c016-3caa-44dd-ad4d-22a115b4ba21",
   "metadata": {},
   "outputs": [],
   "source": [
    "def get_embedding(text):\n",
    "    return openai.Embedding.create(input=[text], model=EMBEDDING_MODEL)['data'][0]['embedding']"
   ]
  },
  {
   "cell_type": "code",
   "execution_count": null,
   "id": "6ae839cd-16aa-474a-951d-42066db3138c",
   "metadata": {},
   "outputs": [],
   "source": []
  },
  {
   "cell_type": "code",
   "execution_count": 7,
   "id": "4e56a5d3-da31-4b33-8055-c89564ac9bb5",
   "metadata": {},
   "outputs": [],
   "source": [
    "results = []\n",
    "for i in range(len(df)):\n",
    "    row = df.iloc[i]\n",
    "    url = row.get('url')\n",
    "    content = row.get('content')\n",
    "    embedding = get_embedding(\n",
    "        row.get('content')[:MAX_MODEL_TOKEN]\n",
    "    )\n",
    "\n",
    "    results += [{\n",
    "        'url': url,\n",
    "        'content': content,\n",
    "        'embedding': embedding,\n",
    "    }]"
   ]
  },
  {
   "cell_type": "code",
   "execution_count": 8,
   "id": "2fbe07ab-7c83-4cbc-9d21-f3edb80dbe24",
   "metadata": {},
   "outputs": [
    {
     "data": {
      "text/html": [
       "<div>\n",
       "<style scoped>\n",
       "    .dataframe tbody tr th:only-of-type {\n",
       "        vertical-align: middle;\n",
       "    }\n",
       "\n",
       "    .dataframe tbody tr th {\n",
       "        vertical-align: top;\n",
       "    }\n",
       "\n",
       "    .dataframe thead th {\n",
       "        text-align: right;\n",
       "    }\n",
       "</style>\n",
       "<table border=\"1\" class=\"dataframe\">\n",
       "  <thead>\n",
       "    <tr style=\"text-align: right;\">\n",
       "      <th></th>\n",
       "      <th>url</th>\n",
       "      <th>content</th>\n",
       "      <th>embedding</th>\n",
       "    </tr>\n",
       "  </thead>\n",
       "  <tbody>\n",
       "    <tr>\n",
       "      <th>0</th>\n",
       "      <td>https://zozo.jp/_help/default.html?id=5ece39d3...</td>\n",
       "      <td>商品のサイズ商品のサイズは、商品ページ下部にある「サイズ」の項目をご覧ください。当サイトでは...</td>\n",
       "      <td>[-0.012270285747945309, 0.009278957732021809, ...</td>\n",
       "    </tr>\n",
       "    <tr>\n",
       "      <th>1</th>\n",
       "      <td>https://zozo.jp/_help/default.html?id=5ece39d3...</td>\n",
       "      <td>商品のカラー・デザイン商品の画像は、できる限り実際の商品に近づけた状態で掲載をしております。...</td>\n",
       "      <td>[-0.012848308309912682, -0.0011484753340482712...</td>\n",
       "    </tr>\n",
       "    <tr>\n",
       "      <th>2</th>\n",
       "      <td>https://zozo.jp/_help/default.html?id=5ece47a3...</td>\n",
       "      <td>商品の販売価格サイトの表示価格は、販売ショップがZOZOTOWNで販売するために設定した価格...</td>\n",
       "      <td>[-0.015740083530545235, -0.006914299912750721,...</td>\n",
       "    </tr>\n",
       "    <tr>\n",
       "      <th>3</th>\n",
       "      <td>https://zozo.jp/_help/default.html?id=5ece39d4...</td>\n",
       "      <td>ZOZOUSEDの取扱い商品ZOZOUSEDでは、買取サービスや買い替え割・いつでも買い替え...</td>\n",
       "      <td>[-0.01777864620089531, -0.008320022374391556, ...</td>\n",
       "    </tr>\n",
       "    <tr>\n",
       "      <th>4</th>\n",
       "      <td>https://zozo.jp/_help/default.html?id=5ece39d4...</td>\n",
       "      <td>ZOZOUSED商品の掲載画像撮影時の照明やカメラの角度、お客様の端末設定により、実際の色味...</td>\n",
       "      <td>[-0.004656823817640543, -0.005725925322622061,...</td>\n",
       "    </tr>\n",
       "  </tbody>\n",
       "</table>\n",
       "</div>"
      ],
      "text/plain": [
       "                                                 url  \\\n",
       "0  https://zozo.jp/_help/default.html?id=5ece39d3...   \n",
       "1  https://zozo.jp/_help/default.html?id=5ece39d3...   \n",
       "2  https://zozo.jp/_help/default.html?id=5ece47a3...   \n",
       "3  https://zozo.jp/_help/default.html?id=5ece39d4...   \n",
       "4  https://zozo.jp/_help/default.html?id=5ece39d4...   \n",
       "\n",
       "                                             content  \\\n",
       "0  商品のサイズ商品のサイズは、商品ページ下部にある「サイズ」の項目をご覧ください。当サイトでは...   \n",
       "1  商品のカラー・デザイン商品の画像は、できる限り実際の商品に近づけた状態で掲載をしております。...   \n",
       "2  商品の販売価格サイトの表示価格は、販売ショップがZOZOTOWNで販売するために設定した価格...   \n",
       "3  ZOZOUSEDの取扱い商品ZOZOUSEDでは、買取サービスや買い替え割・いつでも買い替え...   \n",
       "4  ZOZOUSED商品の掲載画像撮影時の照明やカメラの角度、お客様の端末設定により、実際の色味...   \n",
       "\n",
       "                                           embedding  \n",
       "0  [-0.012270285747945309, 0.009278957732021809, ...  \n",
       "1  [-0.012848308309912682, -0.0011484753340482712...  \n",
       "2  [-0.015740083530545235, -0.006914299912750721,...  \n",
       "3  [-0.01777864620089531, -0.008320022374391556, ...  \n",
       "4  [-0.004656823817640543, -0.005725925322622061,...  "
      ]
     },
     "execution_count": 8,
     "metadata": {},
     "output_type": "execute_result"
    }
   ],
   "source": [
    "df_new = pd.DataFrame(results)\n",
    "df_new.head(5)"
   ]
  },
  {
   "cell_type": "code",
   "execution_count": 9,
   "id": "11c17d0a-7655-49ba-b6f7-2c9e0c32b9e4",
   "metadata": {},
   "outputs": [],
   "source": [
    "df_new.to_csv('./data/embedding_content.csv', index=False)"
   ]
  },
  {
   "cell_type": "code",
   "execution_count": null,
   "id": "32759a0d-bdbd-4619-84dd-2d165ae2c239",
   "metadata": {},
   "outputs": [],
   "source": []
  }
 ],
 "metadata": {
  "kernelspec": {
   "display_name": "Python 3 (ipykernel)",
   "language": "python",
   "name": "python3"
  },
  "language_info": {
   "codemirror_mode": {
    "name": "ipython",
    "version": 3
   },
   "file_extension": ".py",
   "mimetype": "text/x-python",
   "name": "python",
   "nbconvert_exporter": "python",
   "pygments_lexer": "ipython3",
   "version": "3.11.5"
  }
 },
 "nbformat": 4,
 "nbformat_minor": 5
}
